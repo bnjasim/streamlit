{
 "cells": [
  {
   "cell_type": "markdown",
   "metadata": {
    "id": "zYufmjurU60F"
   },
   "source": [
    "# Module 3 - Programming Assignment\n",
    "\n",
    "## Directions\n",
    "\n",
    "1. Change the name of this file to be your JHED id as in `jsmith299.ipynb`. Because sure you use your JHED ID (it's made out of your name and not your student id which is just letters and numbers).\n",
    "2. Make sure the notebook you submit is cleanly and fully executed. I do not grade unexecuted notebooks.\n",
    "3. Submit your notebook back in Blackboard where you downloaded this file.\n",
    "\n",
    "*Provide the output **exactly** as requested*"
   ]
  },
  {
   "cell_type": "markdown",
   "metadata": {
    "id": "utXyTLiyU60P"
   },
   "source": [
    "## k Nearest Neighbors and Model Evaluation\n",
    "\n",
    "In this programming assignment you will use k Nearest Neighbors (kNN) to build a \"model\" that will estimate the compressive strength of various types of concrete. This assignment has several objectives:\n",
    "\n",
    "1. implement the kNN algorithm with k=3. Remember...the data + distance function is the model in kNN.\n",
    "2. Using Mean Squared Error (MSE):\n",
    "\n",
    "$$MSE = \\frac{1}{n}\\sum^n_i (y_i - \\hat{y}_i)^2$$\n",
    "\n",
    "evaluate the model against $y = \\frac{1}{n}\\sum y_i$ (the mean of y, $\\bar{y}$), using 10 fold cross validation.\n",
    "Some functions have been provided below.\n",
    "\n",
    "3. use validation curves to tune a *hyperparameter* of the model. \n",
    "In this case, the hyperparameter is *k*, the number of neighbors.\n",
    "\n",
    "4. evaluate the *generalization error* of the new model.\n",
    "\n",
    "5. pick one of the \"Choose Your Own Adventure\" options.\n",
    "\n",
    "Refer to the \"course notes\" for this module for most of this assignment.\n",
    "Anytime you just need test/train split, use fold index 0 for the test set and the remainder as the training set."
   ]
  },
  {
   "cell_type": "markdown",
   "metadata": {
    "id": "nDqmPewbU60R"
   },
   "source": [
    "## Load the Data\n",
    "\n",
    "The function `parse_data` loads the data from the specified file and returns a List of Lists. The outer List is the data set and each element (List) is a specific observation. Each value of an observation is for a particular measurement. This is what we mean by \"tidy\" data.\n",
    "\n",
    "The function also returns the *shuffled* data because the data might have been collected in a particular order that *might* bias training."
   ]
  },
  {
   "cell_type": "code",
   "execution_count": 1,
   "metadata": {
    "id": "d4SUcPTMU60T"
   },
   "outputs": [],
   "source": [
    "import random\n",
    "from typing import List, Dict, Tuple, Callable"
   ]
  },
  {
   "cell_type": "code",
   "execution_count": 2,
   "metadata": {
    "id": "WN4RcVc-U60V"
   },
   "outputs": [],
   "source": [
    "def parse_data(file_name: str) -> List[List]:\n",
    "    data = []\n",
    "    file = open(file_name, \"r\")\n",
    "    for line in file:\n",
    "        datum = [float(value) for value in line.rstrip().split(\",\")]\n",
    "        data.append(datum)\n",
    "    random.shuffle(data)\n",
    "    return data"
   ]
  },
  {
   "cell_type": "code",
   "execution_count": 3,
   "metadata": {
    "id": "Rq8uwIaTU60W"
   },
   "outputs": [],
   "source": [
    "data = parse_data(\"concrete_compressive_strength.csv\")"
   ]
  },
  {
   "cell_type": "code",
   "execution_count": 4,
   "metadata": {
    "colab": {
     "base_uri": "https://localhost:8080/"
    },
    "id": "3pCoXMsJU60Y",
    "outputId": "e41159a4-515e-4880-e1bf-0cd42d97c0c6",
    "scrolled": true
   },
   "outputs": [
    {
     "data": {
      "text/plain": [
       "[[200.0, 133.0, 0.0, 192.0, 0.0, 965.4, 806.2, 3.0, 11.41],\n",
       " [168.9, 42.2, 124.3, 158.3, 10.8, 1080.8, 796.2, 3.0, 7.4],\n",
       " [385.0, 0.0, 0.0, 186.0, 0.0, 966.0, 763.0, 28.0, 31.35]]"
      ]
     },
     "execution_count": 4,
     "metadata": {},
     "output_type": "execute_result"
    }
   ],
   "source": [
    "data[:3]"
   ]
  },
  {
   "cell_type": "markdown",
   "metadata": {
    "id": "Zz8LfbAXU60c"
   },
   "source": [
    "There are 1,030 observations and each observation has 8 measurements. The data dictionary for this data set tells us the definitions of the individual variables (columns/indices):\n",
    "\n",
    "| Index | Variable | Definition |\n",
    "|-------|----------|------------|\n",
    "| 0     | cement   | kg in a cubic meter mixture |\n",
    "| 1     | slag     | kg in a cubic meter mixture |\n",
    "| 2     | ash      | kg in a cubic meter mixture |\n",
    "| 3     | water    | kg in a cubic meter mixture |\n",
    "| 4     | superplasticizer | kg in a cubic meter mixture |\n",
    "| 5     | coarse aggregate | kg in a cubic meter mixture |\n",
    "| 6     | fine aggregate | kg in a cubic meter mixture |\n",
    "| 7     | age | days |\n",
    "| 8     | concrete compressive strength | MPa |\n",
    "\n",
    "The target (\"y\") variable is a Index 8, concrete compressive strength in (Mega?) [Pascals](https://en.wikipedia.org/wiki/Pascal_(unit))."
   ]
  },
  {
   "cell_type": "markdown",
   "metadata": {
    "id": "vjVhz0DqU60e"
   },
   "source": [
    "## Train/Test Splits - n folds\n",
    "\n",
    "With n fold cross validation, we divide our data set into n subgroups called \"folds\" and then use those folds for training and testing. You pick n based on the size of your data set. If you have a small data set--100 observations--and you used n=10, each fold would only have 10 observations. That's probably too small. You want at least 30. At the other extreme, we generally don't use n > 10.\n",
    "\n",
    "With 1,030 observations, n = 10 is fine so we will have 10 folds.\n",
    "`create_folds` will take a list (xs) and split it into `n` equal folds with each fold containing one-tenth of the observations."
   ]
  },
  {
   "cell_type": "code",
   "execution_count": 5,
   "metadata": {
    "id": "j1kYiLGmU60f"
   },
   "outputs": [],
   "source": [
    "def create_folds(xs: List, n: int) -> List[List[List]]:\n",
    "    k, m = divmod(len(xs), n)\n",
    "    # be careful of generators...\n",
    "    return list(xs[i * k + min(i, m):(i + 1) * k + min(i + 1, m)] for i in range(n))"
   ]
  },
  {
   "cell_type": "code",
   "execution_count": 6,
   "metadata": {
    "id": "9_-IfLNJU60g"
   },
   "outputs": [],
   "source": [
    "folds = create_folds(data, 10)"
   ]
  },
  {
   "cell_type": "code",
   "execution_count": 7,
   "metadata": {
    "colab": {
     "base_uri": "https://localhost:8080/"
    },
    "id": "ZHflXG01U60h",
    "outputId": "6e02ece9-770a-43a0-e498-756f8ef5d6a3"
   },
   "outputs": [
    {
     "data": {
      "text/plain": [
       "103"
      ]
     },
     "execution_count": 7,
     "metadata": {},
     "output_type": "execute_result"
    }
   ],
   "source": [
    "len(folds[0])"
   ]
  },
  {
   "cell_type": "markdown",
   "metadata": {
    "id": "J-YDh1igU60i"
   },
   "source": [
    "We always use one of the n folds as a test set (and, sometimes, one of the folds as a *pruning* set but not for kNN), and the remaining folds as a training set.\n",
    "We need a function that'll take our n folds and return the train and test sets:"
   ]
  },
  {
   "cell_type": "code",
   "execution_count": 8,
   "metadata": {
    "id": "Ur2xMS2WU60j"
   },
   "outputs": [],
   "source": [
    "def create_train_test(folds: List[List[List]], index: int) -> Tuple[List[List], List[List]]:\n",
    "    training = []\n",
    "    test = []\n",
    "    for i, fold in enumerate(folds):\n",
    "        if i == index:\n",
    "            test = fold\n",
    "        else:\n",
    "            training = training + fold\n",
    "    return training, test"
   ]
  },
  {
   "cell_type": "markdown",
   "metadata": {
    "id": "66hrnjcfU60j"
   },
   "source": [
    "We can test the function to give us a train and test datasets where the test set is the fold at index 0:"
   ]
  },
  {
   "cell_type": "code",
   "execution_count": 9,
   "metadata": {
    "id": "KNd7pX_3U60k"
   },
   "outputs": [],
   "source": [
    "train, test = create_train_test(folds, 0)"
   ]
  },
  {
   "cell_type": "code",
   "execution_count": 10,
   "metadata": {
    "colab": {
     "base_uri": "https://localhost:8080/"
    },
    "id": "x9Q7iB81U60k",
    "outputId": "5f1758ca-30dd-4d40-be8d-7085547c7f2b"
   },
   "outputs": [
    {
     "data": {
      "text/plain": [
       "927"
      ]
     },
     "execution_count": 10,
     "metadata": {},
     "output_type": "execute_result"
    }
   ],
   "source": [
    "len(train)"
   ]
  },
  {
   "cell_type": "code",
   "execution_count": 11,
   "metadata": {
    "colab": {
     "base_uri": "https://localhost:8080/"
    },
    "id": "yk2jyN4bU60l",
    "outputId": "a6ff642a-b129-447d-9a8d-fe848337be4f"
   },
   "outputs": [
    {
     "data": {
      "text/plain": [
       "103"
      ]
     },
     "execution_count": 11,
     "metadata": {},
     "output_type": "execute_result"
    }
   ],
   "source": [
    "len(test)"
   ]
  },
  {
   "cell_type": "markdown",
   "metadata": {
    "id": "6objZnxfU60m"
   },
   "source": [
    "## Answers\n",
    "\n",
    "Answer the questions above in the space provided below, adding cells as you need to.\n",
    "Put everything in the helper functions and document them.\n",
    "Document everything (what you're doing and why)."
   ]
  },
  {
   "cell_type": "markdown",
   "metadata": {
    "id": "1s59IMrXU60m"
   },
   "source": [
    "## Q1: kNN"
   ]
  },
  {
   "cell_type": "markdown",
   "metadata": {
    "id": "SubLJinpU60n"
   },
   "source": [
    "## euclidean_distance\n",
    "\n",
    "`euclidean_distance` calculates the Euclidean  distance of two lists of floats. This function is an important part of the kNN algorithm.\n",
    "\n",
    "* **xs1** List[float]: the first list of floats\n",
    "* **xs2** List[float]: the second list of \n",
    "\n",
    "**returns** float: the Euclidean distance"
   ]
  },
  {
   "cell_type": "code",
   "execution_count": 12,
   "metadata": {
    "id": "cjkVJ93mU60n"
   },
   "outputs": [],
   "source": [
    "def euclidean_distance(xs1:List[float], xs2:List[float]) -> float:\n",
    "    return sum(map(lambda val: (val[1] - val[0]) ** 2, zip(xs1, xs2))) ** 0.5"
   ]
  },
  {
   "cell_type": "markdown",
   "metadata": {},
   "source": [
    "Euclidean distance is computed as $\\sqrt{\\sum_i (x_i-y_i)^2}$. That is taking the square root of the sum of squared differences along the dimensions.\n",
    "\n",
    "The above implementation work even when the two lists are of different lengths. It only considers the first k elements where k = min(len(xs1), len(xs2))"
   ]
  },
  {
   "cell_type": "code",
   "execution_count": 17,
   "metadata": {},
   "outputs": [
    {
     "data": {
      "text/plain": [
       "True"
      ]
     },
     "execution_count": 17,
     "metadata": {},
     "output_type": "execute_result"
    }
   ],
   "source": [
    "import numpy as np\n",
    "euclidean_distance([1,2,3], [2,3,4]) == np.sqrt(3)"
   ]
  },
  {
   "cell_type": "code",
   "execution_count": 42,
   "metadata": {
    "id": "w_wLQhNhU60o"
   },
   "outputs": [],
   "source": [
    "recipes = [[1.0, 0.75, 1.0, 28.0, 3.0, 2.0, 15.0, 24.0],\n",
    "    [2.0, 1.0, 0.0, 12.0, 6.0, 7.0, 6.0, 12.0],\n",
    "    [1.25, 0.5, 1.5, 25.0, 3.0, 3.0, 16.0, 20.0]]\n",
    "\n",
    "assert euclidean_distance(recipes[0], recipes[1]) == 22.739008333698283\n",
    "assert euclidean_distance(recipes[0], recipes[2]) == 5.232112384114087\n",
    "assert euclidean_distance(recipes[1], recipes[1]) == 0.0\n",
    "\n",
    "assert euclidean_distance([1,2], [1]) == 0"
   ]
  },
  {
   "cell_type": "markdown",
   "metadata": {
    "id": "AtxzHBxmU60o"
   },
   "source": [
    "## knn\n",
    "\n",
    "`knn` computes the target of an observation by averaging the targets of k nearest neighbors.\n",
    "\n",
    "* **query** List[float]: the observation whose target we want to predict\n",
    "* **data** List[List[float]]: a list of observations\n",
    "* **k** int: the number of nearest neighbors to check \n",
    "\n",
    "**returns** float: the predicted value of the target"
   ]
  },
  {
   "cell_type": "code",
   "execution_count": 27,
   "metadata": {
    "id": "ETXgbXu0U60p"
   },
   "outputs": [],
   "source": [
    "def knn(dataset: List[List[float]], query: List[float], k: int) -> float:\n",
    "    distances = []\n",
    "    for index, observation in enumerate(dataset):\n",
    "        distance = euclidean_distance(xs1=query, xs2=observation)\n",
    "        distances.append((distance, index))\n",
    "        # print(distance, index, observation)\n",
    "    distances.sort(key=lambda item: item[0])\n",
    "    mean_y = sum(map(lambda val: dataset[val[1]][-1], distances[:k])) / k\n",
    "    return mean_y"
   ]
  },
  {
   "cell_type": "markdown",
   "metadata": {},
   "source": [
    "It computes the euclidean distance from the query data to every data point in the dataset. Then sort the datapoints according to the lowest distances computed above and pick only the top k datapoints. The average value of the target values of these top k (k nearest) datapoints is returned as the predicted concreteness value!"
   ]
  },
  {
   "cell_type": "code",
   "execution_count": 31,
   "metadata": {
    "id": "4i-xps7vU60q"
   },
   "outputs": [],
   "source": [
    "test_data = [[1,2,5],[3,4,10],[1,1,3]]\n",
    "assert knn(dataset=test_data, query=[2,2], k=2) == 4.0\n",
    "assert knn(dataset=test_data, query=[2,2], k=3) == 6.0\n",
    "\n",
    "# test with the original data\n",
    "assert knn(dataset=data, query=[339.2, 0.0, 0.0, 185.7, 0.0, 1069.2, 754.3, 28.0, 31.9][:-1], k=1) == 31.9\n",
    "assert abs(knn(dataset=data, query=[295.7, 0.0, 95.6, 171.5, 8.9, 955.1, 859.2, 3.0, 22.95][:-1], k=3) - 22.95) < 5"
   ]
  },
  {
   "cell_type": "markdown",
   "metadata": {
    "id": "Nys8TTMMU60q"
   },
   "source": [
    "## Q2: Evaluation vs. The Mean"
   ]
  },
  {
   "cell_type": "markdown",
   "metadata": {
    "id": "maKL9rBJU60r"
   },
   "source": [
    "## mse\n",
    "\n",
    "`mse` computes the Mean Squared Error. This is important for evaluating the kNN model.\n",
    "\n",
    "* **ys** List[float]: list of actual target values\n",
    "* **y_hats** List[float]: list of predicted values\n",
    "\n",
    "**returns** float: the Mean Square Error"
   ]
  },
  {
   "cell_type": "code",
   "execution_count": 20,
   "metadata": {
    "id": "L_baGWDDU60r"
   },
   "outputs": [],
   "source": [
    "def mse(ys: List[float], y_hats: List[float]) -> float:\n",
    "    return sum([(y_hat - y)**2 for y, y_hat in zip(ys, y_hats)]) / len(ys)"
   ]
  },
  {
   "cell_type": "code",
   "execution_count": 21,
   "metadata": {
    "id": "sJ7ZcsJMU60s"
   },
   "outputs": [],
   "source": [
    "assert mse(ys=[1.0, 2.0, 3.0], y_hats=[1.0, 2.0, 3.0]) == 0.0\n",
    "assert abs(mse(ys=[1.0, 2.0, 3.0], y_hats=[1.1, 2.0, 3.0]) - 0.003) <= 0.01\n",
    "assert abs(mse(ys=[1.0, 2.0, 3.0], y_hats=[1.1, 2.2, 3.1]) - 0.02) <= 0.02\n"
   ]
  },
  {
   "cell_type": "markdown",
   "metadata": {
    "id": "C7LnYRKGU60s"
   },
   "source": [
    "## mean\n",
    "\n",
    "`mean` is a helper function that computes the average of a list of values.\n",
    "\n",
    "* **xs** List[float]: list of numbers whose average we want\n",
    "\n",
    "**return** float: the average of the values"
   ]
  },
  {
   "cell_type": "code",
   "execution_count": 74,
   "metadata": {
    "id": "oSs25awjU60s"
   },
   "outputs": [],
   "source": [
    "def mean(xs: List[float]) -> float:\n",
    "    return sum(xs) / len(xs)"
   ]
  },
  {
   "cell_type": "code",
   "execution_count": 75,
   "metadata": {
    "id": "1d6Ziziagjqz"
   },
   "outputs": [],
   "source": [
    "assert mean([2.01, 0.9, 6.1, 3.00]) == 3.0025\n",
    "assert mean([1.0, 2.0, 3.0, 4.0]) == 2.5\n",
    "assert mean([3.142, 51.71, 46.1, 23.01, 5.87]) == 25.9664"
   ]
  },
  {
   "cell_type": "code",
   "execution_count": 76,
   "metadata": {
    "id": "lXojNF_2U60t"
   },
   "outputs": [],
   "source": [
    "def get_features(data: List[List[float]]) -> List[List[float]]:\n",
    "    return [observation[:-1] for observation in data]"
   ]
  },
  {
   "cell_type": "code",
   "execution_count": 77,
   "metadata": {
    "id": "gaIXPHcqU60t"
   },
   "outputs": [],
   "source": [
    "def get_targets(data: List[List[float]]) -> List[float]:\n",
    "    return [observation[8] for observation in data]"
   ]
  },
  {
   "cell_type": "markdown",
   "metadata": {
    "id": "vERWITjRnsCZ"
   },
   "source": [
    "## evaluate\n",
    "\n",
    "`evaluate` evaluates our model using 10-fold cross validation\n",
    "\n",
    "* **k** int: parameter for number of nearest neighbors\n",
    "* **loss** Callable: the loss function for evaluating the model\n",
    "* **debug** bool: whether to print status information or not\n",
    "\n",
    "**returns** float: the mean error based on the loss function"
   ]
  },
  {
   "cell_type": "code",
   "execution_count": 80,
   "metadata": {
    "id": "K0kYwNraVIeU"
   },
   "outputs": [],
   "source": [
    "def evaluate(k, debug) -> float:\n",
    "    errors = []\n",
    "    for i in range(10):\n",
    "        train, test = create_train_test(folds, i)\n",
    "        ytrain = [i[-1] for i in train]\n",
    "        y_hats = [knn(dataset=train, query=obs, k=k) for obs in train]\n",
    "        err = mse(ys=ytrain, y_hats=y_hats)**0.5\n",
    "        errors.append(err)\n",
    "        if debug:\n",
    "            print(f\"Fold {i + 1} MSE: {err}\")\n",
    "    mean_err = mean(errors)\n",
    "    if debug:\n",
    "        print(f\"Mean: {mean_err}\")\n",
    "    return mean_err"
   ]
  },
  {
   "cell_type": "markdown",
   "metadata": {},
   "source": [
    "The mean of euclidean errors are calculated! The training is done on the train data & the testing is done on the test data"
   ]
  },
  {
   "cell_type": "code",
   "execution_count": 81,
   "metadata": {
    "colab": {
     "base_uri": "https://localhost:8080/"
    },
    "id": "N00fcR7gnsCZ",
    "outputId": "29e57988-d59b-4d92-cb1a-dd7e320528bc"
   },
   "outputs": [
    {
     "name": "stdout",
     "output_type": "stream",
     "text": [
      "Fold 1 MSE: 4.872187855899677\n",
      "Fold 2 MSE: 4.8042151811853415\n",
      "Fold 3 MSE: 4.917197982006281\n",
      "Fold 4 MSE: 5.011423102537373\n",
      "Fold 5 MSE: 5.072670327378832\n",
      "Fold 6 MSE: 4.91342298672545\n",
      "Fold 7 MSE: 5.038246195583965\n",
      "Fold 8 MSE: 4.881008232324315\n",
      "Fold 9 MSE: 4.991955622770492\n",
      "Fold 10 MSE: 5.076091963788204\n",
      "Mean: 4.957841945019992\n"
     ]
    }
   ],
   "source": [
    "model_evaluation = evaluate(k=3, debug=True)"
   ]
  },
  {
   "cell_type": "markdown",
   "metadata": {
    "id": "zcK7WqN1U60t"
   },
   "source": [
    "## Q3: Hyperparameter Tuning"
   ]
  },
  {
   "cell_type": "markdown",
   "metadata": {
    "id": "AqeRqlG_9Nwy"
   },
   "source": [
    "#### Validation Curve\n",
    "\n",
    "`Validation_curve` Constructs the validation curve for different values of K. Allows us to determine K with least mse \n",
    "\n",
    "k - Range of K to plot\n",
    "\n",
    "Outputs a Matplotib Curve with \n",
    "\n",
    "X_axis = K  \n",
    "Y_axis = Mean Squared Error  "
   ]
  },
  {
   "cell_type": "code",
   "execution_count": 82,
   "metadata": {
    "colab": {
     "base_uri": "https://localhost:8080/",
     "height": 279
    },
    "id": "nGUhCC1bU60u",
    "outputId": "252be070-239d-448a-8bbf-17ac983bb616"
   },
   "outputs": [
    {
     "data": {
      "image/png": "[encoded data removed]",
      "text/plain": [
       "<Figure size 432x288 with 1 Axes>"
      ]
     },
     "metadata": {
      "needs_background": "light"
     },
     "output_type": "display_data"
    }
   ],
   "source": [
    "import matplotlib.pyplot as plt\n",
    "\n",
    "def Validation_Curve(k):\n",
    "  mse_list=list()\n",
    "  for k in range(1,k):\n",
    "    mse_list.append((evaluate(k,False),k))\n",
    "  plt.plot(list(range(1,10)),list(list(zip(*mse_list))[0]))\n",
    "  plt.xlabel(\"Number of nearest neighbours (K)\")\n",
    "  plt.ylabel(\"Mean Square Error\")\n",
    "  plt.show()\n",
    "  mse_list.sort(key=lambda item:item[0])\n",
    "  return mse_list[0][1]\n",
    "\n",
    "opt_K = Validation_Curve(10)"
   ]
  },
  {
   "cell_type": "markdown",
   "metadata": {
    "id": "iyh3m1wIqQLJ"
   },
   "source": [
    "The number of nearest neighbours (k) is plotted on the x-axis and the average error on the test data is plotted on the y-axis!\n",
    "\n",
    "As we can see in Graph, as K increases, the validation error is increasing because model is overfitting with more K.\n",
    "\n",
    "\n",
    "We pick k = 4 (even though there is no clear value), by the elbow method! After k=4, there is not much reduction in the mean squared error when k increases!"
   ]
  },
  {
   "cell_type": "code",
   "execution_count": 88,
   "metadata": {
    "id": "ie-m0dgNneVs"
   },
   "outputs": [
    {
     "name": "stdout",
     "output_type": "stream",
     "text": [
      "Selected k =  4\n"
     ]
    }
   ],
   "source": [
    "opt_K = 4\n",
    "print(\"Selected k = \", opt_K)"
   ]
  },
  {
   "cell_type": "markdown",
   "metadata": {
    "id": "XRsPyhBDU60u"
   },
   "source": [
    "## Q4: Generalization Error"
   ]
  },
  {
   "cell_type": "markdown",
   "metadata": {
    "id": "Kf9my053_RL1"
   },
   "source": [
    "`gen_error` is error rate on test test with different folds. The K used will be the one that is found earlier.\n",
    "\n",
    "folds- Number of folds to test\n",
    "\n",
    "Outputs the mean square error for each fold."
   ]
  },
  {
   "cell_type": "code",
   "execution_count": 89,
   "metadata": {
    "id": "pRZAIOgoU60v"
   },
   "outputs": [],
   "source": [
    "import numpy as np\n",
    "\n",
    "def gen_error(n_fold)-> float:\n",
    "  test_y_hat=list()\n",
    "  mse_list=list()\n",
    "  y=list()\n",
    "  for cv in range(n_fold):\n",
    "    train, test = create_train_test(folds, cv)\n",
    "    for t in test:      \n",
    "      test_y_hat.append(knn(dataset=train,query=t[:7], k=opt_K))\n",
    "      y.append(t[8])\n",
    "    mse_list.append(mse(y,test_y_hat)**0.5)\n",
    "    y.clear()\n",
    "    test_y_hat.clear()\n",
    "  for cv,m in enumerate(mse_list):\n",
    "    print(f\"Generalized Error for Fold={cv} is {m} \")\n",
    "  print(f\"Mean Error is {np.mean(mse_list)}\")\n",
    "  return np.mean(mse_list)\n"
   ]
  },
  {
   "cell_type": "code",
   "execution_count": 90,
   "metadata": {
    "colab": {
     "base_uri": "https://localhost:8080/"
    },
    "id": "EDOjb9PWPnQp",
    "outputId": "9656be19-7391-486c-b4d3-b22fbab5c6db"
   },
   "outputs": [
    {
     "name": "stdout",
     "output_type": "stream",
     "text": [
      "Generalized Error for Fold=0 is 12.863906569662642 \n",
      "Generalized Error for Fold=1 is 12.741276922716938 \n",
      "Generalized Error for Fold=2 is 12.515423879788358 \n",
      "Generalized Error for Fold=3 is 14.666451528053994 \n",
      "Generalized Error for Fold=4 is 12.830007704369267 \n",
      "Generalized Error for Fold=5 is 12.085705243711024 \n",
      "Generalized Error for Fold=6 is 13.56521392022464 \n",
      "Generalized Error for Fold=7 is 13.626822706976803 \n",
      "Generalized Error for Fold=8 is 11.649461918279181 \n",
      "Generalized Error for Fold=9 is 13.754850170613253 \n",
      "Mean Error is 13.02991205643961\n"
     ]
    },
    {
     "data": {
      "text/plain": [
       "13.02991205643961"
      ]
     },
     "execution_count": 90,
     "metadata": {},
     "output_type": "execute_result"
    }
   ],
   "source": [
    "gen_error(10)"
   ]
  },
  {
   "cell_type": "markdown",
   "metadata": {
    "id": "V0cuZFdYU60v"
   },
   "source": [
    "## Q5: Choose your own adventure\n",
    "\n",
    "You have three options for the next part:\n",
    "\n",
    "1. You can implement mean normalization (also called \"z-score standardization\") of the *features*; do not normalize the target, y. See if this improves the generalization error of your model (middle).\n",
    "\n",
    "2. You can implement *learning curves* to see if more data would likely improve your model (easiest).\n",
    "\n",
    "3. You can implement *weighted* kNN and use the real valued GA to choose the weights. weighted kNN assigns a weight to each item in the Euclidean distance calculation. For two points, j and k:\n",
    "$$\\sqrt{\\sum w_i (x^k_i - x^j_i)^2}$$\n",
    "\n",
    "You can think of normal Euclidean distance as the case where $w_i = 1$ for all features  (ambitious, but fun...you need to start EARLY because it takes a really long time to run).\n",
    "\n",
    "The easier the adventure the more correct it must be..."
   ]
  },
  {
   "cell_type": "markdown",
   "metadata": {
    "id": "oo7q9ssn_zPm"
   },
   "source": [
    "## Learning Curves\n",
    "\n",
    "`learning_curve()` Constructs the Learning curve for different values of K, a plot with increasing model Complexity. \n",
    "\n",
    "Outputs a Matplotib Curve with\n",
    "\n",
    "X_axis = K\n",
    "\n",
    "Y_axis = Mean Square Error\n",
    "\n",
    "Returns Variance"
   ]
  },
  {
   "cell_type": "code",
   "execution_count": 29,
   "metadata": {
    "id": "emz1EfJ8U60v"
   },
   "outputs": [],
   "source": [
    "def learning_curve()->float:\n",
    "  mse_list=list()\n",
    "  test_y_hat=list()\n",
    "  y=list()\n",
    "  for k in range(1,20):\n",
    "    for t in test:\n",
    "      test_y_hat.append(knn(dataset=train,query=t[:7], k=k))\n",
    "      y.append(t[8])\n",
    "    mse_list.append(mse(y,test_y_hat)**0.5)\n",
    "    y.clear()\n",
    "    test_y_hat.clear()    \n",
    "  plt.plot(list(range(1,20)),mse_list)\n",
    "  plt.xlabel(\"Number of nearest neighbours (K)\")\n",
    "  plt.ylabel(\"Mean Square Error\")\n",
    "  plt.show()\n",
    "  ys = [item[8] for item in test]\n",
    "  y_means = [mean(ys) for _ in test]\n",
    "  variance=mse(ys, y_means)\n",
    "  print(f\"Variance is: {variance}\")\n",
    "  return variance"
   ]
  },
  {
   "cell_type": "markdown",
   "metadata": {
    "id": "dQqCt5jynyj3"
   },
   "source": [
    "#Overfitting\n",
    "\n",
    "There is clearly overfitting because of high error at lower K and high population variance in prediction. More data will be required to decrease variance. "
   ]
  },
  {
   "cell_type": "code",
   "execution_count": 30,
   "metadata": {
    "colab": {
     "base_uri": "https://localhost:8080/",
     "height": 297
    },
    "id": "2nopljkrl4ZZ",
    "outputId": "9951e4fd-f9e5-461c-b30b-577bc47264a0"
   },
   "outputs": [
    {
     "data": {
      "image/png": "[encoded data removed]",
      "text/plain": [
       "<Figure size 432x288 with 1 Axes>"
      ]
     },
     "metadata": {
      "needs_background": "light"
     },
     "output_type": "display_data"
    },
    {
     "name": "stdout",
     "output_type": "stream",
     "text": [
      "Variance is: 287.1329790555187\n"
     ]
    }
   ],
   "source": [
    "assert(type(learning_curve()))==float"
   ]
  },
  {
   "cell_type": "markdown",
   "metadata": {
    "id": "GD7dm5N7U60v"
   },
   "source": [
    "## Before You Submit...\n",
    "\n",
    "1. Did you provide output exactly as requested?\n",
    "2. Did you re-execute the entire notebook? (\"Restart Kernel and Rull All Cells...\")\n",
    "3. If you did not complete the assignment or had difficulty please explain what gave you the most difficulty in the Markdown cell below.\n",
    "4. Did you change the name of the file to `jhed_id.ipynb`?\n",
    "\n",
    "Do not submit any other files."
   ]
  },
  {
   "cell_type": "code",
   "execution_count": 1,
   "metadata": {
    "id": "lLP7-aeSx84l"
   },
   "outputs": [
    {
     "name": "stderr",
     "output_type": "stream",
     "text": [
      "2022-02-16 04:54:17.253 INFO    numexpr.utils: NumExpr defaulting to 4 threads.\n"
     ]
    },
    {
     "ename": "ImportError",
     "evalue": "dlopen(/Users/bnjasim/miniconda3/lib/python3.8/site-packages/pyarrow/lib.cpython-38-darwin.so, 2): Symbol not found: _SSLCopyALPNProtocols\n  Referenced from: /Users/bnjasim/miniconda3/lib/python3.8/site-packages/pyarrow/libarrow.700.dylib\n  Expected in: /System/Library/Frameworks/Security.framework/Versions/A/Security\n in /Users/bnjasim/miniconda3/lib/python3.8/site-packages/pyarrow/libarrow.700.dylib",
     "output_type": "error",
     "traceback": [
      "\u001b[0;31m---------------------------------------------------------------------------\u001b[0m",
      "\u001b[0;31mImportError\u001b[0m                               Traceback (most recent call last)",
      "\u001b[0;32m<ipython-input-1-1aa3dc4fa683>\u001b[0m in \u001b[0;36m<module>\u001b[0;34m\u001b[0m\n\u001b[0;32m----> 1\u001b[0;31m \u001b[0;32mimport\u001b[0m \u001b[0mstreamlit\u001b[0m \u001b[0;32mas\u001b[0m \u001b[0mst\u001b[0m\u001b[0;34m\u001b[0m\u001b[0;34m\u001b[0m\u001b[0m\n\u001b[0m",
      "\u001b[0;32m~/miniconda3/lib/python3.8/site-packages/streamlit/__init__.py\u001b[0m in \u001b[0;36m<module>\u001b[0;34m\u001b[0m\n\u001b[1;32m     70\u001b[0m \u001b[0;32mfrom\u001b[0m \u001b[0mstreamlit\u001b[0m \u001b[0;32mimport\u001b[0m \u001b[0msource_util\u001b[0m \u001b[0;32mas\u001b[0m \u001b[0m_source_util\u001b[0m\u001b[0;34m\u001b[0m\u001b[0;34m\u001b[0m\u001b[0m\n\u001b[1;32m     71\u001b[0m \u001b[0;32mfrom\u001b[0m \u001b[0mstreamlit\u001b[0m \u001b[0;32mimport\u001b[0m \u001b[0mstring_util\u001b[0m \u001b[0;32mas\u001b[0m \u001b[0m_string_util\u001b[0m\u001b[0;34m\u001b[0m\u001b[0;34m\u001b[0m\u001b[0m\n\u001b[0;32m---> 72\u001b[0;31m \u001b[0;32mfrom\u001b[0m \u001b[0mstreamlit\u001b[0m\u001b[0;34m.\u001b[0m\u001b[0mdelta_generator\u001b[0m \u001b[0;32mimport\u001b[0m \u001b[0mDeltaGenerator\u001b[0m \u001b[0;32mas\u001b[0m \u001b[0m_DeltaGenerator\u001b[0m\u001b[0;34m\u001b[0m\u001b[0;34m\u001b[0m\u001b[0m\n\u001b[0m\u001b[1;32m     73\u001b[0m \u001b[0;32mfrom\u001b[0m \u001b[0mstreamlit\u001b[0m\u001b[0;34m.\u001b[0m\u001b[0mscript_run_context\u001b[0m \u001b[0;32mimport\u001b[0m \u001b[0madd_script_run_ctx\u001b[0m \u001b[0;32mas\u001b[0m \u001b[0m_add_script_run_ctx\u001b[0m\u001b[0;34m\u001b[0m\u001b[0;34m\u001b[0m\u001b[0m\n\u001b[1;32m     74\u001b[0m \u001b[0;32mfrom\u001b[0m \u001b[0mstreamlit\u001b[0m\u001b[0;34m.\u001b[0m\u001b[0mscript_run_context\u001b[0m \u001b[0;32mimport\u001b[0m \u001b[0mget_script_run_ctx\u001b[0m \u001b[0;32mas\u001b[0m \u001b[0m_get_script_run_ctx\u001b[0m\u001b[0;34m\u001b[0m\u001b[0;34m\u001b[0m\u001b[0m\n",
      "\u001b[0;32m~/miniconda3/lib/python3.8/site-packages/streamlit/delta_generator.py\u001b[0m in \u001b[0;36m<module>\u001b[0;34m\u001b[0m\n\u001b[1;32m     17\u001b[0m \u001b[0;34m\u001b[0m\u001b[0m\n\u001b[1;32m     18\u001b[0m \u001b[0;32mimport\u001b[0m \u001b[0mstreamlit\u001b[0m \u001b[0;32mas\u001b[0m \u001b[0mst\u001b[0m\u001b[0;34m\u001b[0m\u001b[0;34m\u001b[0m\u001b[0m\n\u001b[0;32m---> 19\u001b[0;31m \u001b[0;32mfrom\u001b[0m \u001b[0mstreamlit\u001b[0m \u001b[0;32mimport\u001b[0m \u001b[0mcursor\u001b[0m\u001b[0;34m,\u001b[0m \u001b[0mcaching\u001b[0m\u001b[0;34m\u001b[0m\u001b[0;34m\u001b[0m\u001b[0m\n\u001b[0m\u001b[1;32m     20\u001b[0m \u001b[0;32mfrom\u001b[0m \u001b[0mstreamlit\u001b[0m \u001b[0;32mimport\u001b[0m \u001b[0mlegacy_caching\u001b[0m\u001b[0;34m\u001b[0m\u001b[0;34m\u001b[0m\u001b[0m\n\u001b[1;32m     21\u001b[0m \u001b[0;32mfrom\u001b[0m \u001b[0mstreamlit\u001b[0m \u001b[0;32mimport\u001b[0m \u001b[0mtype_util\u001b[0m\u001b[0;34m\u001b[0m\u001b[0;34m\u001b[0m\u001b[0m\n",
      "\u001b[0;32m~/miniconda3/lib/python3.8/site-packages/streamlit/cursor.py\u001b[0m in \u001b[0;36m<module>\u001b[0;34m\u001b[0m\n\u001b[1;32m     16\u001b[0m \u001b[0;34m\u001b[0m\u001b[0m\n\u001b[1;32m     17\u001b[0m \u001b[0;32mfrom\u001b[0m \u001b[0mstreamlit\u001b[0m \u001b[0;32mimport\u001b[0m \u001b[0mutil\u001b[0m\u001b[0;34m\u001b[0m\u001b[0;34m\u001b[0m\u001b[0m\n\u001b[0;32m---> 18\u001b[0;31m \u001b[0;32mfrom\u001b[0m \u001b[0mstreamlit\u001b[0m\u001b[0;34m.\u001b[0m\u001b[0mscript_run_context\u001b[0m \u001b[0;32mimport\u001b[0m \u001b[0mget_script_run_ctx\u001b[0m\u001b[0;34m\u001b[0m\u001b[0;34m\u001b[0m\u001b[0m\n\u001b[0m\u001b[1;32m     19\u001b[0m \u001b[0;34m\u001b[0m\u001b[0m\n\u001b[1;32m     20\u001b[0m \u001b[0;34m\u001b[0m\u001b[0m\n",
      "\u001b[0;32m~/miniconda3/lib/python3.8/site-packages/streamlit/script_run_context.py\u001b[0m in \u001b[0;36m<module>\u001b[0;34m\u001b[0m\n\u001b[1;32m     21\u001b[0m \u001b[0;32mfrom\u001b[0m \u001b[0mstreamlit\u001b[0m\u001b[0;34m.\u001b[0m\u001b[0mlogger\u001b[0m \u001b[0;32mimport\u001b[0m \u001b[0mget_logger\u001b[0m\u001b[0;34m\u001b[0m\u001b[0;34m\u001b[0m\u001b[0m\n\u001b[1;32m     22\u001b[0m \u001b[0;32mfrom\u001b[0m \u001b[0mstreamlit\u001b[0m\u001b[0;34m.\u001b[0m\u001b[0mproto\u001b[0m\u001b[0;34m.\u001b[0m\u001b[0mForwardMsg_pb2\u001b[0m \u001b[0;32mimport\u001b[0m \u001b[0mForwardMsg\u001b[0m\u001b[0;34m\u001b[0m\u001b[0;34m\u001b[0m\u001b[0m\n\u001b[0;32m---> 23\u001b[0;31m \u001b[0;32mfrom\u001b[0m \u001b[0mstreamlit\u001b[0m\u001b[0;34m.\u001b[0m\u001b[0mstate\u001b[0m\u001b[0;34m.\u001b[0m\u001b[0msession_state\u001b[0m \u001b[0;32mimport\u001b[0m \u001b[0mSessionState\u001b[0m\u001b[0;34m\u001b[0m\u001b[0;34m\u001b[0m\u001b[0m\n\u001b[0m\u001b[1;32m     24\u001b[0m \u001b[0;32mfrom\u001b[0m \u001b[0mstreamlit\u001b[0m\u001b[0;34m.\u001b[0m\u001b[0muploaded_file_manager\u001b[0m \u001b[0;32mimport\u001b[0m \u001b[0mUploadedFileManager\u001b[0m\u001b[0;34m\u001b[0m\u001b[0;34m\u001b[0m\u001b[0m\n\u001b[1;32m     25\u001b[0m \u001b[0;34m\u001b[0m\u001b[0m\n",
      "\u001b[0;32m~/miniconda3/lib/python3.8/site-packages/streamlit/state/session_state.py\u001b[0m in \u001b[0;36m<module>\u001b[0;34m\u001b[0m\n\u001b[1;32m     16\u001b[0m \u001b[0;32mimport\u001b[0m \u001b[0mjson\u001b[0m\u001b[0;34m\u001b[0m\u001b[0;34m\u001b[0m\u001b[0m\n\u001b[1;32m     17\u001b[0m \u001b[0;32mfrom\u001b[0m \u001b[0mstreamlit\u001b[0m\u001b[0;34m.\u001b[0m\u001b[0mstats\u001b[0m \u001b[0;32mimport\u001b[0m \u001b[0mCacheStat\u001b[0m\u001b[0;34m,\u001b[0m \u001b[0mCacheStatsProvider\u001b[0m\u001b[0;34m\u001b[0m\u001b[0;34m\u001b[0m\u001b[0m\n\u001b[0;32m---> 18\u001b[0;31m \u001b[0;32mfrom\u001b[0m \u001b[0mstreamlit\u001b[0m\u001b[0;34m.\u001b[0m\u001b[0mtype_util\u001b[0m \u001b[0;32mimport\u001b[0m \u001b[0mKey\u001b[0m\u001b[0;34m\u001b[0m\u001b[0;34m\u001b[0m\u001b[0m\n\u001b[0m\u001b[1;32m     19\u001b[0m from typing import (\n\u001b[1;32m     20\u001b[0m     \u001b[0mTYPE_CHECKING\u001b[0m\u001b[0;34m,\u001b[0m\u001b[0;34m\u001b[0m\u001b[0;34m\u001b[0m\u001b[0m\n",
      "\u001b[0;32m~/miniconda3/lib/python3.8/site-packages/streamlit/type_util.py\u001b[0m in \u001b[0;36m<module>\u001b[0;34m\u001b[0m\n\u001b[1;32m     20\u001b[0m \u001b[0;32mfrom\u001b[0m \u001b[0mpandas\u001b[0m \u001b[0;32mimport\u001b[0m \u001b[0mDataFrame\u001b[0m\u001b[0;34m,\u001b[0m \u001b[0mSeries\u001b[0m\u001b[0;34m,\u001b[0m \u001b[0mIndex\u001b[0m\u001b[0;34m\u001b[0m\u001b[0;34m\u001b[0m\u001b[0m\n\u001b[1;32m     21\u001b[0m \u001b[0;32mimport\u001b[0m \u001b[0mnumpy\u001b[0m \u001b[0;32mas\u001b[0m \u001b[0mnp\u001b[0m\u001b[0;34m\u001b[0m\u001b[0;34m\u001b[0m\u001b[0m\n\u001b[0;32m---> 22\u001b[0;31m \u001b[0;32mimport\u001b[0m \u001b[0mpyarrow\u001b[0m \u001b[0;32mas\u001b[0m \u001b[0mpa\u001b[0m\u001b[0;34m\u001b[0m\u001b[0;34m\u001b[0m\u001b[0m\n\u001b[0m\u001b[1;32m     23\u001b[0m \u001b[0;34m\u001b[0m\u001b[0m\n\u001b[1;32m     24\u001b[0m \u001b[0;32mfrom\u001b[0m \u001b[0mstreamlit\u001b[0m \u001b[0;32mimport\u001b[0m \u001b[0merrors\u001b[0m\u001b[0;34m\u001b[0m\u001b[0;34m\u001b[0m\u001b[0m\n",
      "\u001b[0;32m~/miniconda3/lib/python3.8/site-packages/pyarrow/__init__.py\u001b[0m in \u001b[0;36m<module>\u001b[0;34m\u001b[0m\n\u001b[1;32m     63\u001b[0m \u001b[0m_gc_enabled\u001b[0m \u001b[0;34m=\u001b[0m \u001b[0m_gc\u001b[0m\u001b[0;34m.\u001b[0m\u001b[0misenabled\u001b[0m\u001b[0;34m(\u001b[0m\u001b[0;34m)\u001b[0m\u001b[0;34m\u001b[0m\u001b[0;34m\u001b[0m\u001b[0m\n\u001b[1;32m     64\u001b[0m \u001b[0m_gc\u001b[0m\u001b[0;34m.\u001b[0m\u001b[0mdisable\u001b[0m\u001b[0;34m(\u001b[0m\u001b[0;34m)\u001b[0m\u001b[0;34m\u001b[0m\u001b[0;34m\u001b[0m\u001b[0m\n\u001b[0;32m---> 65\u001b[0;31m \u001b[0;32mimport\u001b[0m \u001b[0mpyarrow\u001b[0m\u001b[0;34m.\u001b[0m\u001b[0mlib\u001b[0m \u001b[0;32mas\u001b[0m \u001b[0m_lib\u001b[0m\u001b[0;34m\u001b[0m\u001b[0;34m\u001b[0m\u001b[0m\n\u001b[0m\u001b[1;32m     66\u001b[0m \u001b[0;32mif\u001b[0m \u001b[0m_gc_enabled\u001b[0m\u001b[0;34m:\u001b[0m\u001b[0;34m\u001b[0m\u001b[0;34m\u001b[0m\u001b[0m\n\u001b[1;32m     67\u001b[0m     \u001b[0m_gc\u001b[0m\u001b[0;34m.\u001b[0m\u001b[0menable\u001b[0m\u001b[0;34m(\u001b[0m\u001b[0;34m)\u001b[0m\u001b[0;34m\u001b[0m\u001b[0;34m\u001b[0m\u001b[0m\n",
      "\u001b[0;31mImportError\u001b[0m: dlopen(/Users/bnjasim/miniconda3/lib/python3.8/site-packages/pyarrow/lib.cpython-38-darwin.so, 2): Symbol not found: _SSLCopyALPNProtocols\n  Referenced from: /Users/bnjasim/miniconda3/lib/python3.8/site-packages/pyarrow/libarrow.700.dylib\n  Expected in: /System/Library/Frameworks/Security.framework/Versions/A/Security\n in /Users/bnjasim/miniconda3/lib/python3.8/site-packages/pyarrow/libarrow.700.dylib"
     ]
    }
   ],
   "source": [
    "import streamlit as st"
   ]
  },
  {
   "cell_type": "code",
   "execution_count": 2,
   "metadata": {},
   "outputs": [
    {
     "ename": "ImportError",
     "evalue": "dlopen(/Users/bnjasim/miniconda3/lib/python3.8/site-packages/pyarrow/lib.cpython-38-darwin.so, 2): Symbol not found: _SSLCopyALPNProtocols\n  Referenced from: /Users/bnjasim/miniconda3/lib/python3.8/site-packages/pyarrow/libarrow.700.dylib\n  Expected in: /System/Library/Frameworks/Security.framework/Versions/A/Security\n in /Users/bnjasim/miniconda3/lib/python3.8/site-packages/pyarrow/libarrow.700.dylib",
     "output_type": "error",
     "traceback": [
      "\u001b[0;31m---------------------------------------------------------------------------\u001b[0m",
      "\u001b[0;31mImportError\u001b[0m                               Traceback (most recent call last)",
      "\u001b[0;32m<ipython-input-2-f1048abcb32d>\u001b[0m in \u001b[0;36m<module>\u001b[0;34m\u001b[0m\n\u001b[0;32m----> 1\u001b[0;31m \u001b[0;32mimport\u001b[0m \u001b[0mpyarrow\u001b[0m\u001b[0;34m\u001b[0m\u001b[0;34m\u001b[0m\u001b[0m\n\u001b[0m",
      "\u001b[0;32m~/miniconda3/lib/python3.8/site-packages/pyarrow/__init__.py\u001b[0m in \u001b[0;36m<module>\u001b[0;34m\u001b[0m\n\u001b[1;32m     63\u001b[0m \u001b[0m_gc_enabled\u001b[0m \u001b[0;34m=\u001b[0m \u001b[0m_gc\u001b[0m\u001b[0;34m.\u001b[0m\u001b[0misenabled\u001b[0m\u001b[0;34m(\u001b[0m\u001b[0;34m)\u001b[0m\u001b[0;34m\u001b[0m\u001b[0;34m\u001b[0m\u001b[0m\n\u001b[1;32m     64\u001b[0m \u001b[0m_gc\u001b[0m\u001b[0;34m.\u001b[0m\u001b[0mdisable\u001b[0m\u001b[0;34m(\u001b[0m\u001b[0;34m)\u001b[0m\u001b[0;34m\u001b[0m\u001b[0;34m\u001b[0m\u001b[0m\n\u001b[0;32m---> 65\u001b[0;31m \u001b[0;32mimport\u001b[0m \u001b[0mpyarrow\u001b[0m\u001b[0;34m.\u001b[0m\u001b[0mlib\u001b[0m \u001b[0;32mas\u001b[0m \u001b[0m_lib\u001b[0m\u001b[0;34m\u001b[0m\u001b[0;34m\u001b[0m\u001b[0m\n\u001b[0m\u001b[1;32m     66\u001b[0m \u001b[0;32mif\u001b[0m \u001b[0m_gc_enabled\u001b[0m\u001b[0;34m:\u001b[0m\u001b[0;34m\u001b[0m\u001b[0;34m\u001b[0m\u001b[0m\n\u001b[1;32m     67\u001b[0m     \u001b[0m_gc\u001b[0m\u001b[0;34m.\u001b[0m\u001b[0menable\u001b[0m\u001b[0;34m(\u001b[0m\u001b[0;34m)\u001b[0m\u001b[0;34m\u001b[0m\u001b[0;34m\u001b[0m\u001b[0m\n",
      "\u001b[0;31mImportError\u001b[0m: dlopen(/Users/bnjasim/miniconda3/lib/python3.8/site-packages/pyarrow/lib.cpython-38-darwin.so, 2): Symbol not found: _SSLCopyALPNProtocols\n  Referenced from: /Users/bnjasim/miniconda3/lib/python3.8/site-packages/pyarrow/libarrow.700.dylib\n  Expected in: /System/Library/Frameworks/Security.framework/Versions/A/Security\n in /Users/bnjasim/miniconda3/lib/python3.8/site-packages/pyarrow/libarrow.700.dylib"
     ]
    }
   ],
   "source": [
    "import pyarrow"
   ]
  }
 ],
 "metadata": {
  "colab": {
   "name": "up.ipynb",
   "provenance": []
  },
  "interpreter": {
   "hash": "0600588c3b5f4418cbe7b5ebc6825b479f3bc010269d8b60d75058cdd010adfe"
  },
  "kernelspec": {
   "display_name": "Python 3 (ipykernel)",
   "language": "python",
   "name": "python3"
  },
  "language_info": {
   "codemirror_mode": {
    "name": "ipython",
    "version": 3
   },
   "file_extension": ".py",
   "mimetype": "text/x-python",
   "name": "python",
   "nbconvert_exporter": "python",
   "pygments_lexer": "ipython3",
   "version": "3.9.7"
  },
  "toc": {
   "base_numbering": 1,
   "nav_menu": {
    "height": "117px",
    "width": "252px"
   },
   "number_sections": true,
   "sideBar": true,
   "skip_h1_title": false,
   "title_cell": "Table of Contents",
   "title_sidebar": "Contents",
   "toc_cell": false,
   "toc_position": {},
   "toc_section_display": "block",
   "toc_window_display": false
  },
  "varInspector": {
   "cols": {
    "lenName": 16,
    "lenType": 16,
    "lenVar": 40
   },
   "kernels_config": {
    "python": {
     "delete_cmd_postfix": "",
     "delete_cmd_prefix": "del ",
     "library": "var_list.py",
     "varRefreshCmd": "print(var_dic_list())"
    },
    "r": {
     "delete_cmd_postfix": ") ",
     "delete_cmd_prefix": "rm(",
     "library": "var_list.r",
     "varRefreshCmd": "cat(var_dic_list()) "
    }
   },
   "types_to_exclude": [
    "module",
    "function",
    "builtin_function_or_method",
    "instance",
    "_Feature"
   ],
   "window_display": false
  }
 },
 "nbformat": 4,
 "nbformat_minor": 1
}
